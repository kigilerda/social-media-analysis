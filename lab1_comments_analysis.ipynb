{
  "nbformat": 4,
  "nbformat_minor": 0,
  "metadata": {
    "colab": {
      "provenance": []
    },
    "kernelspec": {
      "name": "python3",
      "display_name": "Python 3"
    },
    "language_info": {
      "name": "python"
    }
  },
  "cells": [
    {
      "cell_type": "code",
      "source": [
        "import pandas as pd\n",
        "import numpy as np"
      ],
      "metadata": {
        "id": "Y15pFwxhA0SB"
      },
      "execution_count": null,
      "outputs": []
    },
    {
      "cell_type": "code",
      "source": [
        "comment = [\"Эта идея хорошо подходит для нашего проекта, молодцы!\",\n",
        "           \"Хорошо, что вы подняли эту тему, она очень важна!\",\n",
        "           \"Мне нравится, как вы изложили свои мысли, очень хорошо!\",\n",
        "           \"К сожалению, ситуация здесь выглядит плохо, есть над чем поработать.\",\n",
        "           \"Плохо, что такие мнения появляются, это не конструктивно.\",\n",
        "           \"Увы, реализация идеи вышла плохо, нужно больше усилий!\"]\n",
        "np.random.seed(3)\n",
        "like = np.random.randint(100, 600, (6, ))\n",
        "repost = np.random.randint(10, 60, (6, ))\n",
        "view = np.random.randint(500, 2500, (6, ))"
      ],
      "metadata": {
        "id": "L4f91M_BA2UE"
      },
      "execution_count": null,
      "outputs": []
    },
    {
      "cell_type": "markdown",
      "source": [
        "Проанализировать список comment. Посчитать количество символов и слов в каждом комментарии.\n",
        "\n",
        "Проанализировать список comment. Вывести на экран индекс комментария и напротив его тональность. (Если есть слово \"хорошо\", то тональность положительная, если есть слово \"плохо\", то тональность отрицательная)\n",
        "\n",
        "Создать DataFrame из списков comment, like, repost, view с идентичными названиями колонок\n",
        "\n",
        "Вывести на экран комментарий, у коготорого больше всего лайков.\n",
        "\n",
        "Посчитать для каждого комментария оценку вовлеченности ((like + repost)/view)\n",
        "\n",
        "---\n",
        "\n"
      ],
      "metadata": {
        "id": "XAyJTQT8A8Bh"
      }
    },
    {
      "cell_type": "code",
      "source": [
        "# Задание 1: нужно посчитать кол-во символов и слов\n",
        "for ind, text in enumerate(comment):\n",
        "  print('Комментарий', ind+1)\n",
        "  # подсчет символов\n",
        "  print('Количество символов:', len(text))\n",
        "  # подсчет слов\n",
        "  print('Количество слов:', len(text.split()))"
      ],
      "metadata": {
        "colab": {
          "base_uri": "https://localhost:8080/"
        },
        "id": "0-U02jpnBTKv",
        "outputId": "998fc8e5-32fc-4ef8-c7ea-1782610007aa"
      },
      "execution_count": null,
      "outputs": [
        {
          "output_type": "stream",
          "name": "stdout",
          "text": [
            "Комментарий 1\n",
            "Количество символов: 53\n",
            "Количество слов: 8\n",
            "Комментарий 2\n",
            "Количество символов: 49\n",
            "Количество слов: 9\n",
            "Комментарий 3\n",
            "Количество символов: 55\n",
            "Количество слов: 9\n",
            "Комментарий 4\n",
            "Количество символов: 68\n",
            "Количество слов: 10\n",
            "Комментарий 5\n",
            "Количество символов: 57\n",
            "Количество слов: 8\n",
            "Комментарий 6\n",
            "Количество символов: 54\n",
            "Количество слов: 8\n"
          ]
        }
      ]
    },
    {
      "cell_type": "code",
      "source": [
        "# Задание 2: тональность\n",
        "for ind, text in enumerate(comment):\n",
        "  text_l = text.lower()\n",
        "  print('Комментарий:', ind+1)\n",
        "  if 'хорошо'  in text_l:\n",
        "    print('положительная')\n",
        "  elif 'плохо' in text_l:\n",
        "    print('отрицательная')"
      ],
      "metadata": {
        "colab": {
          "base_uri": "https://localhost:8080/"
        },
        "id": "sLz6mka_DNQT",
        "outputId": "cea83767-a57f-4a75-e97f-f2334f2cad2c"
      },
      "execution_count": null,
      "outputs": [
        {
          "output_type": "stream",
          "name": "stdout",
          "text": [
            "Комментарий: 1\n",
            "положительная\n",
            "Комментарий: 2\n",
            "положительная\n",
            "Комментарий: 3\n",
            "положительная\n",
            "Комментарий: 4\n",
            "отрицательная\n",
            "Комментарий: 5\n",
            "отрицательная\n",
            "Комментарий: 6\n",
            "отрицательная\n"
          ]
        }
      ]
    },
    {
      "cell_type": "code",
      "source": [
        "# Задание 3: создание DataFrame из списков comment, like, repost, view\n",
        "d = {'comment': comment,\n",
        "      'like': like,\n",
        "      'repost': repost,\n",
        "      'view': view}\n",
        "df = pd.DataFrame(d)\n",
        "print(df)"
      ],
      "metadata": {
        "colab": {
          "base_uri": "https://localhost:8080/"
        },
        "id": "ysfuqRbdFw_r",
        "outputId": "209f49bc-b616-4f0f-c08e-6b6502bb3b38"
      },
      "execution_count": null,
      "outputs": [
        {
          "output_type": "stream",
          "name": "stdout",
          "text": [
            "                                             comment  like  repost  view\n",
            "0  Эта идея хорошо подходит для нашего проекта, м...   462      10  2174\n",
            "1  Хорошо, что вы подняли эту тему, она очень важна!   252      31  1417\n",
            "2  Мне нравится, как вы изложили свои мысли, очен...   349      29  1643\n",
            "3  К сожалению, ситуация здесь выглядит плохо, ес...   231      20  1946\n",
            "4  Плохо, что такие мнения появляются, это не кон...   540      53   980\n",
            "5  Увы, реализация идеи вышла плохо, нужно больше...   556      51  2184\n"
          ]
        }
      ]
    },
    {
      "cell_type": "code",
      "source": [
        "# Задание 4: больше всего лайков\n",
        "\n",
        "# сортируем по количеству лайков\n",
        "df_sort = df.sort_values(by='like', ascending=False)\n",
        "\n",
        "# самый залайканный комментарий\n",
        "res = df_sort.iloc[0]\n",
        "print(res['comment'])"
      ],
      "metadata": {
        "colab": {
          "base_uri": "https://localhost:8080/"
        },
        "id": "JfxwcLtBGbSh",
        "outputId": "4641a463-a7af-4bc8-fd58-b386c2e91c55"
      },
      "execution_count": null,
      "outputs": [
        {
          "output_type": "stream",
          "name": "stdout",
          "text": [
            "Увы, реализация идеи вышла плохо, нужно больше усилий!\n"
          ]
        }
      ]
    },
    {
      "cell_type": "code",
      "source": [
        "# Задание 5: оценка вовлеченности\n",
        "\n",
        "df['engagement'] = (df['like'] + df['repost']) / df['view']\n",
        "print(df[['comment', 'engagement']])"
      ],
      "metadata": {
        "colab": {
          "base_uri": "https://localhost:8080/"
        },
        "id": "MJ7lsouMHCna",
        "outputId": "450f5d56-679e-4b83-e22f-f141cfa6dfcc"
      },
      "execution_count": null,
      "outputs": [
        {
          "output_type": "stream",
          "name": "stdout",
          "text": [
            "                                             comment  engagement\n",
            "0  Эта идея хорошо подходит для нашего проекта, м...    0.217111\n",
            "1  Хорошо, что вы подняли эту тему, она очень важна!    0.199718\n",
            "2  Мне нравится, как вы изложили свои мысли, очен...    0.230067\n",
            "3  К сожалению, ситуация здесь выглядит плохо, ес...    0.128983\n",
            "4  Плохо, что такие мнения появляются, это не кон...    0.605102\n",
            "5  Увы, реализация идеи вышла плохо, нужно больше...    0.277930\n"
          ]
        }
      ]
    }
  ]
}