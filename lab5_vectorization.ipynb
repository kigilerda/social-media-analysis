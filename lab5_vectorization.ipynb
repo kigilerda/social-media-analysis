{
  "nbformat": 4,
  "nbformat_minor": 0,
  "metadata": {
    "colab": {
      "provenance": []
    },
    "kernelspec": {
      "name": "python3",
      "display_name": "Python 3"
    },
    "language_info": {
      "name": "python"
    }
  },
  "cells": [
    {
      "cell_type": "markdown",
      "source": [
        "# Лабораторная работа 5\n",
        "1. Использовать предобработанные тексты выбранного корпуса\n",
        "2. Извлечь вектора BoW, TF-IDF, Word2Vec, BERT*\n",
        "3. Сохранить предобученные модели\n",
        "4. *Сохранить полученные вектора отдельным файлом (.py/ .csv)\n",
        "5. *Предсказать сентимент отзывов используя тональные словари"
      ],
      "metadata": {
        "id": "xmeF1RI_PKrZ"
      }
    },
    {
      "cell_type": "code",
      "execution_count": null,
      "metadata": {
        "colab": {
          "base_uri": "https://localhost:8080/"
        },
        "id": "LQyuGL3ZO_mP",
        "outputId": "357e0adb-c23b-4b16-b03a-5865475c8e7d"
      },
      "outputs": [
        {
          "output_type": "stream",
          "name": "stdout",
          "text": [
            "Mounted at /content/drive\n"
          ]
        }
      ],
      "source": [
        "from google.colab import drive\n",
        "drive.mount('/content/drive')"
      ]
    },
    {
      "cell_type": "code",
      "source": [
        "!pip install gensim > None"
      ],
      "metadata": {
        "id": "yVU7hCjF8PeV",
        "colab": {
          "base_uri": "https://localhost:8080/"
        },
        "outputId": "2bb91139-3356-45b9-9872-ee0ec8cb4d7e"
      },
      "execution_count": null,
      "outputs": [
        {
          "output_type": "stream",
          "name": "stdout",
          "text": [
            "\u001b[31mERROR: pip's dependency resolver does not currently take into account all the packages that are installed. This behaviour is the source of the following dependency conflicts.\n",
            "thinc 8.3.6 requires numpy<3.0.0,>=2.0.0, but you have numpy 1.26.4 which is incompatible.\n",
            "tsfresh 0.21.0 requires scipy>=1.14.0; python_version >= \"3.10\", but you have scipy 1.13.1 which is incompatible.\u001b[0m\u001b[31m\n",
            "\u001b[0m"
          ]
        }
      ]
    },
    {
      "cell_type": "code",
      "source": [
        "import os\n",
        "os.kill(os.getpid(), 9)"
      ],
      "metadata": {
        "id": "wrdvys9t8SpL"
      },
      "execution_count": null,
      "outputs": []
    },
    {
      "cell_type": "code",
      "source": [
        "import numpy as np\n",
        "import pandas as pd"
      ],
      "metadata": {
        "id": "3hK5Y220T0S-"
      },
      "execution_count": null,
      "outputs": []
    },
    {
      "cell_type": "code",
      "source": [
        "# загрузка выборок\n",
        "train_data = pd.read_csv('/content/drive/My Drive/data_train.csv', keep_default_na=False)\n",
        "test_data = pd.read_csv('/content/drive/My Drive/data_test.csv', keep_default_na=False)\n",
        "val_data = pd.read_csv('/content/drive/My Drive/data_val.csv', keep_default_na=False)"
      ],
      "metadata": {
        "id": "L4A5zosTSOmW"
      },
      "execution_count": null,
      "outputs": []
    },
    {
      "cell_type": "code",
      "source": [
        "# проверка пропущенных значений\n",
        "train_data['processed_text'].isna().sum()"
      ],
      "metadata": {
        "colab": {
          "base_uri": "https://localhost:8080/"
        },
        "id": "juTB4How91Qx",
        "outputId": "fda85d3e-b66e-4f39-c275-9fa706a36783"
      },
      "execution_count": null,
      "outputs": [
        {
          "output_type": "execute_result",
          "data": {
            "text/plain": [
              "0"
            ]
          },
          "metadata": {},
          "execution_count": 7
        }
      ]
    },
    {
      "cell_type": "code",
      "source": [
        "train_data"
      ],
      "metadata": {
        "colab": {
          "base_uri": "https://localhost:8080/",
          "height": 423
        },
        "id": "QuR0CHDSesEh",
        "outputId": "8cdc3656-031a-410d-d5f5-71ba16b81913"
      },
      "execution_count": null,
      "outputs": [
        {
          "output_type": "execute_result",
          "data": {
            "text/plain": [
              "       id_post                       date  \\\n",
              "0        15223  2024-03-14 11:59:58+00:00   \n",
              "1        17189  2024-06-11 09:50:39+00:00   \n",
              "2         7599  2022-12-30 12:15:33+00:00   \n",
              "3         4092  2021-07-01 08:52:18+00:00   \n",
              "4         6762  2022-09-17 16:51:50+00:00   \n",
              "...        ...                        ...   \n",
              "11203    17583  2024-07-02 16:20:42+00:00   \n",
              "11204    24380  2025-04-18 17:01:37+00:00   \n",
              "11205     8339  2023-02-28 11:03:01+00:00   \n",
              "11206     5016  2021-12-10 09:03:46+00:00   \n",
              "11207    12049  2023-10-03 10:56:06+00:00   \n",
              "\n",
              "                                                    text   views  reactions  \\\n",
              "0      Продолжаем наш совместный с @MosGuru розыгрыш!...  226362       1372   \n",
              "1      Клавиатуры добавили только тех стран, в которы...  167889        613   \n",
              "2      **В чипе A17 для iPhone 15 Apple сфокусируется...  182941       2289   \n",
              "3      Вышла публичная бета iOS 15. Ставить на основн...   20043          9   \n",
              "4       Вот так делаешь. И eSIM улетела на новый iPhone.  401874       5783   \n",
              "...                                                  ...     ...        ...   \n",
              "11203  **В Техасе есть точная копия стамбульской трас...  191088       1254   \n",
              "11204  **Google добавит красок в чистый Android 16**\\...   82788        477   \n",
              "11205  **Redmi **[**показал**](https://weibo.com/3021...  165714       1507   \n",
              "11206  Мода на кроссовки в стиле тапочек набирает обо...   16392         21   \n",
              "11207                                         ❤️❤️❤️❤️❤️  326503       3310   \n",
              "\n",
              "       comments  engagement  target  \\\n",
              "0            85    0.006437   False   \n",
              "1            57    0.003991   False   \n",
              "2             0    0.012512   False   \n",
              "3             0    0.000449   False   \n",
              "4             0    0.014390   False   \n",
              "...         ...         ...     ...   \n",
              "11203        79    0.006976   False   \n",
              "11204        78    0.006704   False   \n",
              "11205         0    0.009094   False   \n",
              "11206         0    0.001281   False   \n",
              "11207        41    0.010263   False   \n",
              "\n",
              "                                          processed_text  \n",
              "0      продолжать наш совместный mosguru розыгрыш он ...  \n",
              "1      клавиатура добавить тот страна который продава...  \n",
              "2      чип a iphone apple сфокусироваться энергоэффек...  \n",
              "3      выйти публичный бета ios ставить основный устр...  \n",
              "4                       делать esim улететь новый iphone  \n",
              "...                                                  ...  \n",
              "11203  техас точный копия стамбульский трасса формула...  \n",
              "11204  google добавить краска чистый android новый бе...  \n",
              "11205  redmi зарядка вт нуль пять минута xiaomi разра...  \n",
              "11206  мода кроссовок стиль тапочки набирать оборот n...  \n",
              "11207                                                     \n",
              "\n",
              "[11208 rows x 9 columns]"
            ],
            "text/html": [
              "\n",
              "  <div id=\"df-35a20c4b-4c41-4e73-95fe-b9d41ed62ea0\" class=\"colab-df-container\">\n",
              "    <div>\n",
              "<style scoped>\n",
              "    .dataframe tbody tr th:only-of-type {\n",
              "        vertical-align: middle;\n",
              "    }\n",
              "\n",
              "    .dataframe tbody tr th {\n",
              "        vertical-align: top;\n",
              "    }\n",
              "\n",
              "    .dataframe thead th {\n",
              "        text-align: right;\n",
              "    }\n",
              "</style>\n",
              "<table border=\"1\" class=\"dataframe\">\n",
              "  <thead>\n",
              "    <tr style=\"text-align: right;\">\n",
              "      <th></th>\n",
              "      <th>id_post</th>\n",
              "      <th>date</th>\n",
              "      <th>text</th>\n",
              "      <th>views</th>\n",
              "      <th>reactions</th>\n",
              "      <th>comments</th>\n",
              "      <th>engagement</th>\n",
              "      <th>target</th>\n",
              "      <th>processed_text</th>\n",
              "    </tr>\n",
              "  </thead>\n",
              "  <tbody>\n",
              "    <tr>\n",
              "      <th>0</th>\n",
              "      <td>15223</td>\n",
              "      <td>2024-03-14 11:59:58+00:00</td>\n",
              "      <td>Продолжаем наш совместный с @MosGuru розыгрыш!...</td>\n",
              "      <td>226362</td>\n",
              "      <td>1372</td>\n",
              "      <td>85</td>\n",
              "      <td>0.006437</td>\n",
              "      <td>False</td>\n",
              "      <td>продолжать наш совместный mosguru розыгрыш он ...</td>\n",
              "    </tr>\n",
              "    <tr>\n",
              "      <th>1</th>\n",
              "      <td>17189</td>\n",
              "      <td>2024-06-11 09:50:39+00:00</td>\n",
              "      <td>Клавиатуры добавили только тех стран, в которы...</td>\n",
              "      <td>167889</td>\n",
              "      <td>613</td>\n",
              "      <td>57</td>\n",
              "      <td>0.003991</td>\n",
              "      <td>False</td>\n",
              "      <td>клавиатура добавить тот страна который продава...</td>\n",
              "    </tr>\n",
              "    <tr>\n",
              "      <th>2</th>\n",
              "      <td>7599</td>\n",
              "      <td>2022-12-30 12:15:33+00:00</td>\n",
              "      <td>**В чипе A17 для iPhone 15 Apple сфокусируется...</td>\n",
              "      <td>182941</td>\n",
              "      <td>2289</td>\n",
              "      <td>0</td>\n",
              "      <td>0.012512</td>\n",
              "      <td>False</td>\n",
              "      <td>чип a iphone apple сфокусироваться энергоэффек...</td>\n",
              "    </tr>\n",
              "    <tr>\n",
              "      <th>3</th>\n",
              "      <td>4092</td>\n",
              "      <td>2021-07-01 08:52:18+00:00</td>\n",
              "      <td>Вышла публичная бета iOS 15. Ставить на основн...</td>\n",
              "      <td>20043</td>\n",
              "      <td>9</td>\n",
              "      <td>0</td>\n",
              "      <td>0.000449</td>\n",
              "      <td>False</td>\n",
              "      <td>выйти публичный бета ios ставить основный устр...</td>\n",
              "    </tr>\n",
              "    <tr>\n",
              "      <th>4</th>\n",
              "      <td>6762</td>\n",
              "      <td>2022-09-17 16:51:50+00:00</td>\n",
              "      <td>Вот так делаешь. И eSIM улетела на новый iPhone.</td>\n",
              "      <td>401874</td>\n",
              "      <td>5783</td>\n",
              "      <td>0</td>\n",
              "      <td>0.014390</td>\n",
              "      <td>False</td>\n",
              "      <td>делать esim улететь новый iphone</td>\n",
              "    </tr>\n",
              "    <tr>\n",
              "      <th>...</th>\n",
              "      <td>...</td>\n",
              "      <td>...</td>\n",
              "      <td>...</td>\n",
              "      <td>...</td>\n",
              "      <td>...</td>\n",
              "      <td>...</td>\n",
              "      <td>...</td>\n",
              "      <td>...</td>\n",
              "      <td>...</td>\n",
              "    </tr>\n",
              "    <tr>\n",
              "      <th>11203</th>\n",
              "      <td>17583</td>\n",
              "      <td>2024-07-02 16:20:42+00:00</td>\n",
              "      <td>**В Техасе есть точная копия стамбульской трас...</td>\n",
              "      <td>191088</td>\n",
              "      <td>1254</td>\n",
              "      <td>79</td>\n",
              "      <td>0.006976</td>\n",
              "      <td>False</td>\n",
              "      <td>техас точный копия стамбульский трасса формула...</td>\n",
              "    </tr>\n",
              "    <tr>\n",
              "      <th>11204</th>\n",
              "      <td>24380</td>\n",
              "      <td>2025-04-18 17:01:37+00:00</td>\n",
              "      <td>**Google добавит красок в чистый Android 16**\\...</td>\n",
              "      <td>82788</td>\n",
              "      <td>477</td>\n",
              "      <td>78</td>\n",
              "      <td>0.006704</td>\n",
              "      <td>False</td>\n",
              "      <td>google добавить краска чистый android новый бе...</td>\n",
              "    </tr>\n",
              "    <tr>\n",
              "      <th>11205</th>\n",
              "      <td>8339</td>\n",
              "      <td>2023-02-28 11:03:01+00:00</td>\n",
              "      <td>**Redmi **[**показал**](https://weibo.com/3021...</td>\n",
              "      <td>165714</td>\n",
              "      <td>1507</td>\n",
              "      <td>0</td>\n",
              "      <td>0.009094</td>\n",
              "      <td>False</td>\n",
              "      <td>redmi зарядка вт нуль пять минута xiaomi разра...</td>\n",
              "    </tr>\n",
              "    <tr>\n",
              "      <th>11206</th>\n",
              "      <td>5016</td>\n",
              "      <td>2021-12-10 09:03:46+00:00</td>\n",
              "      <td>Мода на кроссовки в стиле тапочек набирает обо...</td>\n",
              "      <td>16392</td>\n",
              "      <td>21</td>\n",
              "      <td>0</td>\n",
              "      <td>0.001281</td>\n",
              "      <td>False</td>\n",
              "      <td>мода кроссовок стиль тапочки набирать оборот n...</td>\n",
              "    </tr>\n",
              "    <tr>\n",
              "      <th>11207</th>\n",
              "      <td>12049</td>\n",
              "      <td>2023-10-03 10:56:06+00:00</td>\n",
              "      <td>❤️❤️❤️❤️❤️</td>\n",
              "      <td>326503</td>\n",
              "      <td>3310</td>\n",
              "      <td>41</td>\n",
              "      <td>0.010263</td>\n",
              "      <td>False</td>\n",
              "      <td></td>\n",
              "    </tr>\n",
              "  </tbody>\n",
              "</table>\n",
              "<p>11208 rows × 9 columns</p>\n",
              "</div>\n",
              "    <div class=\"colab-df-buttons\">\n",
              "\n",
              "  <div class=\"colab-df-container\">\n",
              "    <button class=\"colab-df-convert\" onclick=\"convertToInteractive('df-35a20c4b-4c41-4e73-95fe-b9d41ed62ea0')\"\n",
              "            title=\"Convert this dataframe to an interactive table.\"\n",
              "            style=\"display:none;\">\n",
              "\n",
              "  <svg xmlns=\"http://www.w3.org/2000/svg\" height=\"24px\" viewBox=\"0 -960 960 960\">\n",
              "    <path d=\"M120-120v-720h720v720H120Zm60-500h600v-160H180v160Zm220 220h160v-160H400v160Zm0 220h160v-160H400v160ZM180-400h160v-160H180v160Zm440 0h160v-160H620v160ZM180-180h160v-160H180v160Zm440 0h160v-160H620v160Z\"/>\n",
              "  </svg>\n",
              "    </button>\n",
              "\n",
              "  <style>\n",
              "    .colab-df-container {\n",
              "      display:flex;\n",
              "      gap: 12px;\n",
              "    }\n",
              "\n",
              "    .colab-df-convert {\n",
              "      background-color: #E8F0FE;\n",
              "      border: none;\n",
              "      border-radius: 50%;\n",
              "      cursor: pointer;\n",
              "      display: none;\n",
              "      fill: #1967D2;\n",
              "      height: 32px;\n",
              "      padding: 0 0 0 0;\n",
              "      width: 32px;\n",
              "    }\n",
              "\n",
              "    .colab-df-convert:hover {\n",
              "      background-color: #E2EBFA;\n",
              "      box-shadow: 0px 1px 2px rgba(60, 64, 67, 0.3), 0px 1px 3px 1px rgba(60, 64, 67, 0.15);\n",
              "      fill: #174EA6;\n",
              "    }\n",
              "\n",
              "    .colab-df-buttons div {\n",
              "      margin-bottom: 4px;\n",
              "    }\n",
              "\n",
              "    [theme=dark] .colab-df-convert {\n",
              "      background-color: #3B4455;\n",
              "      fill: #D2E3FC;\n",
              "    }\n",
              "\n",
              "    [theme=dark] .colab-df-convert:hover {\n",
              "      background-color: #434B5C;\n",
              "      box-shadow: 0px 1px 3px 1px rgba(0, 0, 0, 0.15);\n",
              "      filter: drop-shadow(0px 1px 2px rgba(0, 0, 0, 0.3));\n",
              "      fill: #FFFFFF;\n",
              "    }\n",
              "  </style>\n",
              "\n",
              "    <script>\n",
              "      const buttonEl =\n",
              "        document.querySelector('#df-35a20c4b-4c41-4e73-95fe-b9d41ed62ea0 button.colab-df-convert');\n",
              "      buttonEl.style.display =\n",
              "        google.colab.kernel.accessAllowed ? 'block' : 'none';\n",
              "\n",
              "      async function convertToInteractive(key) {\n",
              "        const element = document.querySelector('#df-35a20c4b-4c41-4e73-95fe-b9d41ed62ea0');\n",
              "        const dataTable =\n",
              "          await google.colab.kernel.invokeFunction('convertToInteractive',\n",
              "                                                    [key], {});\n",
              "        if (!dataTable) return;\n",
              "\n",
              "        const docLinkHtml = 'Like what you see? Visit the ' +\n",
              "          '<a target=\"_blank\" href=https://colab.research.google.com/notebooks/data_table.ipynb>data table notebook</a>'\n",
              "          + ' to learn more about interactive tables.';\n",
              "        element.innerHTML = '';\n",
              "        dataTable['output_type'] = 'display_data';\n",
              "        await google.colab.output.renderOutput(dataTable, element);\n",
              "        const docLink = document.createElement('div');\n",
              "        docLink.innerHTML = docLinkHtml;\n",
              "        element.appendChild(docLink);\n",
              "      }\n",
              "    </script>\n",
              "  </div>\n",
              "\n",
              "\n",
              "    <div id=\"df-ad358075-e19d-4ffd-a9f5-6cdf8134b4a2\">\n",
              "      <button class=\"colab-df-quickchart\" onclick=\"quickchart('df-ad358075-e19d-4ffd-a9f5-6cdf8134b4a2')\"\n",
              "                title=\"Suggest charts\"\n",
              "                style=\"display:none;\">\n",
              "\n",
              "<svg xmlns=\"http://www.w3.org/2000/svg\" height=\"24px\"viewBox=\"0 0 24 24\"\n",
              "     width=\"24px\">\n",
              "    <g>\n",
              "        <path d=\"M19 3H5c-1.1 0-2 .9-2 2v14c0 1.1.9 2 2 2h14c1.1 0 2-.9 2-2V5c0-1.1-.9-2-2-2zM9 17H7v-7h2v7zm4 0h-2V7h2v10zm4 0h-2v-4h2v4z\"/>\n",
              "    </g>\n",
              "</svg>\n",
              "      </button>\n",
              "\n",
              "<style>\n",
              "  .colab-df-quickchart {\n",
              "      --bg-color: #E8F0FE;\n",
              "      --fill-color: #1967D2;\n",
              "      --hover-bg-color: #E2EBFA;\n",
              "      --hover-fill-color: #174EA6;\n",
              "      --disabled-fill-color: #AAA;\n",
              "      --disabled-bg-color: #DDD;\n",
              "  }\n",
              "\n",
              "  [theme=dark] .colab-df-quickchart {\n",
              "      --bg-color: #3B4455;\n",
              "      --fill-color: #D2E3FC;\n",
              "      --hover-bg-color: #434B5C;\n",
              "      --hover-fill-color: #FFFFFF;\n",
              "      --disabled-bg-color: #3B4455;\n",
              "      --disabled-fill-color: #666;\n",
              "  }\n",
              "\n",
              "  .colab-df-quickchart {\n",
              "    background-color: var(--bg-color);\n",
              "    border: none;\n",
              "    border-radius: 50%;\n",
              "    cursor: pointer;\n",
              "    display: none;\n",
              "    fill: var(--fill-color);\n",
              "    height: 32px;\n",
              "    padding: 0;\n",
              "    width: 32px;\n",
              "  }\n",
              "\n",
              "  .colab-df-quickchart:hover {\n",
              "    background-color: var(--hover-bg-color);\n",
              "    box-shadow: 0 1px 2px rgba(60, 64, 67, 0.3), 0 1px 3px 1px rgba(60, 64, 67, 0.15);\n",
              "    fill: var(--button-hover-fill-color);\n",
              "  }\n",
              "\n",
              "  .colab-df-quickchart-complete:disabled,\n",
              "  .colab-df-quickchart-complete:disabled:hover {\n",
              "    background-color: var(--disabled-bg-color);\n",
              "    fill: var(--disabled-fill-color);\n",
              "    box-shadow: none;\n",
              "  }\n",
              "\n",
              "  .colab-df-spinner {\n",
              "    border: 2px solid var(--fill-color);\n",
              "    border-color: transparent;\n",
              "    border-bottom-color: var(--fill-color);\n",
              "    animation:\n",
              "      spin 1s steps(1) infinite;\n",
              "  }\n",
              "\n",
              "  @keyframes spin {\n",
              "    0% {\n",
              "      border-color: transparent;\n",
              "      border-bottom-color: var(--fill-color);\n",
              "      border-left-color: var(--fill-color);\n",
              "    }\n",
              "    20% {\n",
              "      border-color: transparent;\n",
              "      border-left-color: var(--fill-color);\n",
              "      border-top-color: var(--fill-color);\n",
              "    }\n",
              "    30% {\n",
              "      border-color: transparent;\n",
              "      border-left-color: var(--fill-color);\n",
              "      border-top-color: var(--fill-color);\n",
              "      border-right-color: var(--fill-color);\n",
              "    }\n",
              "    40% {\n",
              "      border-color: transparent;\n",
              "      border-right-color: var(--fill-color);\n",
              "      border-top-color: var(--fill-color);\n",
              "    }\n",
              "    60% {\n",
              "      border-color: transparent;\n",
              "      border-right-color: var(--fill-color);\n",
              "    }\n",
              "    80% {\n",
              "      border-color: transparent;\n",
              "      border-right-color: var(--fill-color);\n",
              "      border-bottom-color: var(--fill-color);\n",
              "    }\n",
              "    90% {\n",
              "      border-color: transparent;\n",
              "      border-bottom-color: var(--fill-color);\n",
              "    }\n",
              "  }\n",
              "</style>\n",
              "\n",
              "      <script>\n",
              "        async function quickchart(key) {\n",
              "          const quickchartButtonEl =\n",
              "            document.querySelector('#' + key + ' button');\n",
              "          quickchartButtonEl.disabled = true;  // To prevent multiple clicks.\n",
              "          quickchartButtonEl.classList.add('colab-df-spinner');\n",
              "          try {\n",
              "            const charts = await google.colab.kernel.invokeFunction(\n",
              "                'suggestCharts', [key], {});\n",
              "          } catch (error) {\n",
              "            console.error('Error during call to suggestCharts:', error);\n",
              "          }\n",
              "          quickchartButtonEl.classList.remove('colab-df-spinner');\n",
              "          quickchartButtonEl.classList.add('colab-df-quickchart-complete');\n",
              "        }\n",
              "        (() => {\n",
              "          let quickchartButtonEl =\n",
              "            document.querySelector('#df-ad358075-e19d-4ffd-a9f5-6cdf8134b4a2 button');\n",
              "          quickchartButtonEl.style.display =\n",
              "            google.colab.kernel.accessAllowed ? 'block' : 'none';\n",
              "        })();\n",
              "      </script>\n",
              "    </div>\n",
              "    </div>\n",
              "  </div>\n"
            ],
            "application/vnd.google.colaboratory.intrinsic+json": {
              "type": "dataframe",
              "variable_name": "train_data",
              "summary": "{\n  \"name\": \"train_data\",\n  \"rows\": 11208,\n  \"fields\": [\n    {\n      \"column\": \"id_post\",\n      \"properties\": {\n        \"dtype\": \"number\",\n        \"std\": 7157,\n        \"min\": 4,\n        \"max\": 24383,\n        \"num_unique_values\": 11208,\n        \"samples\": [\n          500,\n          12171,\n          3271\n        ],\n        \"semantic_type\": \"\",\n        \"description\": \"\"\n      }\n    },\n    {\n      \"column\": \"date\",\n      \"properties\": {\n        \"dtype\": \"object\",\n        \"num_unique_values\": 11189,\n        \"samples\": [\n          \"2024-07-18 17:44:57+00:00\",\n          \"2022-02-17 08:45:37+00:00\",\n          \"2021-08-10 16:02:43+00:00\"\n        ],\n        \"semantic_type\": \"\",\n        \"description\": \"\"\n      }\n    },\n    {\n      \"column\": \"text\",\n      \"properties\": {\n        \"dtype\": \"string\",\n        \"num_unique_values\": 11179,\n        \"samples\": [\n          \"\\u041a\\u043e\\u043c\\u043f\\u0430\\u043d\\u0438\\u044f GoPro \\u043f\\u0440\\u0435\\u0434\\u0441\\u0442\\u0430\\u0432\\u0438\\u043b\\u0430 \\u043d\\u043e\\u0432\\u043e\\u0435 \\u043f\\u043e\\u043a\\u043e\\u043b\\u0435\\u043d\\u0438\\u0435 \\u0441\\u0432\\u043e\\u0435\\u0439 \\u044d\\u043a\\u0448\\u0435\\u043d-\\u043a\\u0430\\u043c\\u0435\\u0440\\u044b HERO10 Black. \\u0412\\u044b\\u0433\\u043b\\u044f\\u0434\\u0438\\u0442 \\u043a\\u0430\\u043a \\u0441\\u0442\\u0430\\u0440\\u0430\\u044f, \\u043d\\u043e \\u0432\\u043d\\u0443\\u0442\\u0440\\u0438 \\u0441\\u043e\\u0432\\u0441\\u0435\\u043c \\u043d\\u043e\\u0432\\u0430\\u044f \\u043d\\u0430\\u0447\\u0438\\u043d\\u043a\\u0430. \\n\\nhttps://wylsa.com/veshh-dnya-gopro-predstavila-hero10-black-za-550/\",\n          \"\\u041f\\u0440\\u0438\\u0432\\u0435\\u0442, \\u0442\\u0443\\u0440\\u0438\\u0441\\u0442\\u044b \\u0438 \\u043f\\u0443\\u0442\\u0435\\u0448\\u0435\\u0441\\u0442\\u0432\\u0435\\u043d\\u043d\\u0438\\u043a\\u0438. \\u0413\\u043e\\u0441\\u0434\\u0443\\u043c\\u0430 \\u043f\\u0440\\u0438\\u043d\\u044f\\u043b\\u0430 \\u0437\\u0430\\u043a\\u043e\\u043d, \\u0440\\u0430\\u0437\\u0440\\u0435\\u0448\\u0430\\u044e\\u0449\\u0438\\u0439 \\u0430\\u0432\\u0438\\u0430\\u043f\\u0435\\u0440\\u0435\\u0432\\u043e\\u0437\\u0447\\u0438\\u043a\\u0430\\u043c \\u0431\\u0440\\u0430\\u0442\\u044c \\u043f\\u043b\\u0430\\u0442\\u0443 \\u0437\\u0430 \\u0431\\u0430\\u0433\\u0430\\u0436, \\u0435\\u0441\\u043b\\u0438 \\u043f\\u043e\\u043a\\u0443\\u043f\\u0430\\u0435\\u0442\\u0435 \\u043d\\u0435\\u0432\\u043e\\u0437\\u0432\\u0440\\u0430\\u0442\\u043d\\u044b\\u0435 \\u0431\\u0438\\u043b\\u0435\\u0442\\u044b. \\u0422\\u0435\\u043f\\u0435\\u0440\\u044c \\u043a\\u043e\\u043c\\u043f\\u0430\\u043d\\u0438\\u0438 \\u0443\\u0436\\u0435 \\u0441\\u0430\\u043c\\u0438 \\u0440\\u0435\\u0448\\u0430\\u044e\\u0442, \\u0432\\u0437\\u0438\\u043c\\u0430\\u0442\\u044c \\u0434\\u043e\\u043f\\u043e\\u043b\\u043d\\u0438\\u0442\\u0435\\u043b\\u044c\\u043d\\u044b\\u0439 \\u0441\\u0431\\u043e\\u0440 \\u0438\\u043b\\u0438 \\u043d\\u0435\\u0442. \\u0421\\u043e\\u0433\\u043b\\u0430\\u0441\\u043d\\u043e \\u0443\\u0441\\u043b\\u043e\\u0432\\u0438\\u044f\\u043c, \\u0432\\u043e\\u0437\\u0432\\u0440\\u0430\\u0442\\u043d\\u044b\\u0439 \\u0442\\u0430\\u0440\\u0438\\u0444 \\u043f\\u0440\\u0435\\u0434\\u0443\\u0441\\u043c\\u0430\\u0442\\u0440\\u0438\\u0432\\u0430\\u0435\\u0442 \\u0431\\u0435\\u0441\\u043f\\u043b\\u0430\\u0442\\u043d\\u0443\\u044e \\u043f\\u0435\\u0440\\u0435\\u0432\\u043e\\u0437\\u043a\\u0443 \\u043d\\u0435 \\u043c\\u0435\\u043d\\u0435\\u0435 10 \\u043a\\u0433 \\u0431\\u0430\\u0433\\u0430\\u0436\\u0430. \\u0411\\u0443\\u0434\\u0443\\u0442 \\u043b\\u0438 \\u0430\\u0432\\u0438\\u0430\\u0442\\u043e\\u0440\\u044b \\u043f\\u043e\\u0434\\u043d\\u0438\\u043c\\u0430\\u0442\\u044c \\u0446\\u0435\\u043d\\u044b \\u0438\\u043b\\u0438 \\u043d\\u0435\\u0442, \\u0443\\u0437\\u043d\\u0430\\u0435\\u043c \\u0447\\u0435\\u0440\\u0435\\u0437 2 \\u043c\\u0435\\u0441\\u044f\\u0446\\u0430 \\u043f\\u043e\\u0441\\u043b\\u0435 \\u043e\\u0444\\u0438\\u0446\\u0438\\u0430\\u043b\\u044c\\u043d\\u043e\\u0433\\u043e \\u043f\\u0443\\u0431\\u043b\\u0438\\u043a\\u043e\\u0432\\u0430\\u043d\\u0438\\u044f \\u0437\\u0430\\u043a\\u043e\\u043d\\u0430, \\u043a\\u043e\\u0433\\u0434\\u0430 \\u043e\\u043d \\u0432\\u0441\\u0442\\u0443\\u043f\\u0438\\u0442 \\u0432 \\u0441\\u0438\\u043b\\u0443.\",\n          \"\\u0412 \\u0442\\u0435\\u043b\\u0435\\u0433\\u0440\\u0430\\u043c\\u0435 \\u043f\\u043e\\u044f\\u0432\\u0438\\u043b\\u0430\\u0441\\u044c \\u0432\\u043e\\u0437\\u043c\\u043e\\u0436\\u043d\\u043e\\u0441\\u0442\\u044c \\u0437\\u0430\\u043a\\u0440\\u044b\\u0442\\u044c \\u043a\\u043e\\u043d\\u0442\\u0435\\u043d\\u0442 \\u0437\\u0430 \\u043f\\u0435\\u0439\\u0432\\u043e\\u043b\\u043b\\u043e\\u043c \\u0441 \\u043e\\u043f\\u043b\\u0430\\u0442\\u043e\\u0439 \\u0437\\u0432\\u0435\\u0437\\u0434\\u0430\\u043c\\u0438. \\u041a\\u043e\\u043d\\u0435\\u0447\\u043d\\u043e \\u0436\\u0435 \\u043c\\u043d\\u0435 \\u044d\\u0442\\u043e \\u043d\\u0430\\u0434\\u043e! \\u042d\\u043a\\u0441\\u043a\\u043b\\u044e\\u0437\\u0438\\u0432\\u043d\\u044b\\u0439 \\u043a\\u043e\\u043d\\u0442\\u0435\\u043d\\u0442 \\u0434\\u043b\\u044f \\u0442\\u0435\\u0445 \\u043a\\u043e\\u043c\\u0443 \\u043d\\u0435 \\u0436\\u0430\\u043b\\u043a\\u043e 40 \\u0437\\u0432\\u0435\\u0437\\u0434\\u043e\\u0447\\u0435\\u043a. \\n\\u0410 \\u0435\\u0441\\u043b\\u0438 \\u0441\\u0435\\u0440\\u044c\\u0435\\u0437\\u043d\\u043e - \\u0441\\u043e\\u043c\\u043d\\u0438\\u0442\\u0435\\u043b\\u044c\\u043d\\u043e, \\u043d\\u043e \\u043e\\u043a\\u044d\\u0439.\"\n        ],\n        \"semantic_type\": \"\",\n        \"description\": \"\"\n      }\n    },\n    {\n      \"column\": \"views\",\n      \"properties\": {\n        \"dtype\": \"number\",\n        \"std\": 97045,\n        \"min\": 34,\n        \"max\": 1024959,\n        \"num_unique_values\": 10590,\n        \"samples\": [\n          33359,\n          305177,\n          38900\n        ],\n        \"semantic_type\": \"\",\n        \"description\": \"\"\n      }\n    },\n    {\n      \"column\": \"reactions\",\n      \"properties\": {\n        \"dtype\": \"number\",\n        \"std\": 1844,\n        \"min\": 0,\n        \"max\": 79357,\n        \"num_unique_values\": 2864,\n        \"samples\": [\n          4569,\n          1308,\n          1931\n        ],\n        \"semantic_type\": \"\",\n        \"description\": \"\"\n      }\n    },\n    {\n      \"column\": \"comments\",\n      \"properties\": {\n        \"dtype\": \"number\",\n        \"std\": 927,\n        \"min\": 0,\n        \"max\": 96395,\n        \"num_unique_values\": 520,\n        \"samples\": [\n          1389,\n          405,\n          80\n        ],\n        \"semantic_type\": \"\",\n        \"description\": \"\"\n      }\n    },\n    {\n      \"column\": \"engagement\",\n      \"properties\": {\n        \"dtype\": \"number\",\n        \"std\": 0.01401287217594421,\n        \"min\": 0.0,\n        \"max\": 0.6761606143017117,\n        \"num_unique_values\": 11085,\n        \"samples\": [\n          0.0003134375139927,\n          0.0047731504609655,\n          0.0004587377468733\n        ],\n        \"semantic_type\": \"\",\n        \"description\": \"\"\n      }\n    },\n    {\n      \"column\": \"target\",\n      \"properties\": {\n        \"dtype\": \"boolean\",\n        \"num_unique_values\": 2,\n        \"samples\": [\n          true,\n          false\n        ],\n        \"semantic_type\": \"\",\n        \"description\": \"\"\n      }\n    },\n    {\n      \"column\": \"processed_text\",\n      \"properties\": {\n        \"dtype\": \"string\",\n        \"num_unique_values\": 11013,\n        \"samples\": [\n          \"ces \\u043f\\u0440\\u0435\\u0434\\u0441\\u0442\\u0430\\u0432\\u0438\\u0442\\u044c \\u0440\\u0430\\u0431\\u043e\\u0442\\u0430\\u0442\\u044c \\u043f\\u043e\\u043c\\u043e\\u0449\\u044c iphone \\u043d\\u0435\\u0431\\u043e\\u043b\\u044c\\u0448\\u043e\\u0439 \\u043f\\u043b\\u0430\\u0441\\u0442\\u0438\\u043a\\u043e\\u0432\\u044b\\u0439 \\u0433\\u0430\\u043b\\u044c\\u043a\\u0430 \\u0434\\u0438\\u0430\\u043c\\u0435\\u0442\\u0440 \\u043c\\u043c \\u043d\\u0430\\u0437\\u0432\\u0430\\u043d\\u0438\\u0435 withings u scan \\u043d\\u0430\\u043f\\u043e\\u043c\\u0438\\u043d\\u0430\\u0442\\u044c \\u043a\\u0440\\u0435\\u043f\\u0438\\u0442\\u044c\\u0441\\u044f \\u043e\\u0431\\u043e\\u0434\\u043e\\u043a \\u0443\\u043d\\u0438\\u0442\\u0430\\u0437 \\u043d\\u0435\\u0431\\u043e\\u043b\\u044c\\u0448\\u043e\\u0439 \\u0440\\u0435\\u0437\\u0435\\u0440\\u0432\\u0443\\u0430\\u0440 \\u043a\\u043e\\u0442\\u043e\\u0440\\u044b\\u0439 \\u0434\\u0430\\u0432\\u0430\\u0442\\u044c \\u043f\\u0440\\u0435\\u0434\\u0441\\u0442\\u0430\\u0432\\u043b\\u0435\\u043d\\u0438\\u0435 \\u0432\\u0430\\u0448 \\u0437\\u0434\\u043e\\u0440\\u043e\\u0432\\u044c\\u0435 \\u043f\\u0440\\u0438\\u043d\\u0446\\u0438\\u043f \\u0434\\u0435\\u0439\\u0441\\u0442\\u0432\\u0438\\u0435 \\u0434\\u043e\\u0432\\u043e\\u043b\\u044c\\u043d\\u043e \\u043f\\u0440\\u043e\\u0441\\u0442\\u043e\\u0439 \\u043f\\u043e\\u043a\\u0430 \\u0438\\u0441\\u043f\\u0440\\u0430\\u0436\\u043d\\u044f\\u0442\\u044c\\u0441\\u044f \\u043c\\u043e\\u0447\\u0430 \\u043f\\u043e\\u043f\\u0430\\u0434\\u0430\\u0442\\u044c \\u043d\\u0435\\u043f\\u043e\\u0441\\u0440\\u0435\\u0434\\u0441\\u0442\\u0432\\u0435\\u043d\\u043d\\u043e u scan \\u0440\\u0430\\u0441\\u043f\\u0440\\u0435\\u0434\\u0435\\u043b\\u044f\\u0442\\u044c\\u0441\\u044f \\u043d\\u0435\\u0441\\u043a\\u043e\\u043b\\u044c\\u043a\\u043e \\u043a\\u0430\\u043f\\u0441\\u0443\\u043b\\u0430 \\u043e\\u043f\\u0442\\u0438\\u0447\\u0435\\u0441\\u043a\\u0438\\u0439 \\u043c\\u043e\\u0434\\u0443\\u043b\\u044c \\u0432\\u043d\\u0443\\u0442\\u0440\\u0438 \\u0441\\u0447\\u0438\\u0442\\u044b\\u0432\\u0430\\u0442\\u044c \\u043d\\u0435\\u043e\\u0431\\u0445\\u043e\\u0434\\u0438\\u043c\\u044b\\u0439 \\u043f\\u0430\\u0440\\u0430\\u043c\\u0435\\u0442\\u0440 u scan \\u043e\\u0447\\u0438\\u0449\\u0430\\u0442\\u044c\\u0441\\u044f \\u043d\\u0430\\u0436\\u0430\\u0442\\u0438\\u0435 \\u0441\\u043c\\u044b\\u0432 \\u0443\\u043d\\u0438\\u0442\\u0430\\u0437 \\u0443\\u0441\\u0442\\u0440\\u043e\\u0439\\u0441\\u0442\\u0432\\u043e \\u0440\\u0430\\u0441\\u043f\\u043e\\u0437\\u043d\\u0430\\u0432\\u0430\\u0442\\u044c \\u043d\\u0435\\u0441\\u043a\\u043e\\u043b\\u044c\\u043a\\u043e \\u043f\\u043e\\u043b\\u044c\\u0437\\u043e\\u0432\\u0430\\u0442\\u0435\\u043b\\u044c \\u043c\\u043e\\u0447\\u0430 \\u0441\\u0432\\u043e\\u0439 \\u0440\\u043e\\u0434 \\u043e\\u0442\\u043f\\u0435\\u0447\\u0430\\u0442\\u043e\\u043a \\u043f\\u0430\\u043b\\u0435\\u0446 u scan \\u043f\\u043e\\u0441\\u0442\\u0443\\u043f\\u0438\\u0442\\u044c \\u043f\\u0440\\u043e\\u0434\\u0430\\u0436\\u0430 \\u0434\\u0432\\u0430 \\u0440\\u0430\\u0437\\u043d\\u044b\\u0439 \\u043a\\u0430\\u043f\\u0441\\u0443\\u043b\\u0430 cycle sync \\u043f\\u0440\\u043e\\u0433\\u043d\\u043e\\u0437\\u0438\\u0440\\u043e\\u0432\\u0430\\u0442\\u044c \\u0441\\u0440\\u043e\\u043a \\u043e\\u0442\\u0434\\u0435\\u043b\\u044c\\u043d\\u044b\\u0439 \\u043f\\u0435\\u0440\\u0438\\u043e\\u0434 \\u043c\\u0435\\u043d\\u0441\\u0442\\u0440\\u0443\\u0430\\u043b\\u044c\\u043d\\u044b\\u0439 \\u0446\\u0438\\u043a\\u043b \\u0442\\u0430\\u043a\\u0436\\u0435 \\u0434\\u0430\\u0432\\u0430\\u0442\\u044c \\u043e\\u0446\\u0435\\u043d\\u043a\\u0430 \\u0432\\u043e\\u0434\\u043d\\u044b\\u0439 \\u0431\\u0430\\u043b\\u0430\\u043d\\u0441 \\u0434\\u0440\\u0443\\u0433\\u043e\\u0439 \\u043f\\u0430\\u0440\\u0430\\u043c\\u0435\\u0442\\u0440 \\u043e\\u0441\\u043d\\u043e\\u0432\\u0430 \\u0433\\u043e\\u0440\\u043c\\u043e\\u043d\\u0430\\u043b\\u044c\\u043d\\u044b\\u0439 \\u043a\\u043e\\u043b\\u0435\\u0431\\u0430\\u043d\\u0438\\u0435 \\u043a\\u0430\\u043f\\u0441\\u0443\\u043b\\u0430 nutri balance \\u043f\\u043e\\u043a\\u0430\\u0437\\u044b\\u0432\\u0430\\u0442\\u044c \\u0430\\u043d\\u0430\\u043b\\u0438\\u0437 \\u0443\\u0434\\u0435\\u043b\\u044c\\u043d\\u044b\\u0439 \\u0432\\u0435\\u0441 \\u0443\\u0440\\u043e\\u0432\\u0435\\u043d\\u044c ph \\u0432\\u0438\\u0442\\u0430\\u043c\\u0438\\u043d \\u043a\\u0435\\u0442\\u043e\\u043d\\u043e\\u0432\\u044b\\u0439 \\u0442\\u0435\\u043b\\u043e \\u043f\\u043e\\u043c\\u043e\\u0449\\u044c \\u043a\\u0430\\u043f\\u0441\\u0443\\u043b\\u0430 u scan \\u043f\\u043e\\u0440\\u0435\\u043a\\u043e\\u043c\\u0435\\u043d\\u0434\\u043e\\u0432\\u0430\\u0442\\u044c \\u0440\\u0435\\u0446\\u0435\\u043f\\u0442 \\u0431\\u043b\\u044e\\u0434\\u043e \\u043f\\u043e\\u043b\\u0435\\u0437\\u043d\\u044b\\u0439 \\u0438\\u0441\\u043f\\u0440\\u0430\\u0436\\u043d\\u044f\\u0442\\u044c\\u0441\\u044f \\u0435\\u0432\\u0440\\u043e\\u043f\\u0430 u scan \\u043f\\u043e\\u044f\\u0432\\u0438\\u0442\\u044c\\u0441\\u044f \\u043f\\u0440\\u043e\\u0434\\u0430\\u0436\\u0430 \\u0432\\u0442\\u043e\\u0440\\u043e\\u0439 \\u043a\\u0432\\u0430\\u0440\\u0442\\u0430\\u043b \\u0433\\u043e\\u0434 \\u0435\\u0432\\u0440\\u043e\",\n          \"\\u0434\\u043e\\u0431\\u0440\\u044b\\u0439 \\u0432\\u0435\\u0447\\u0435\\u0440 \\u0434\\u0440\\u0443\\u0433 \\u0441\\u0432\\u043e\\u0434\\u043a\\u0430 \\u043c\\u0430\\u0442\\u0435\\u0440\\u0438\\u0430\\u043b \\u043e\\u043f\\u0443\\u0431\\u043b\\u0438\\u043a\\u043e\\u0432\\u0430\\u0442\\u044c \\u0441\\u0435\\u0433\\u043e\\u0434\\u043d\\u044f \\u0441\\u0430\\u0439\\u0442 wylsa com \\u043f\\u0440\\u0438\\u044f\\u0442\\u043d\\u044b\\u0439 \\u0447\\u0442\\u0435\\u043d\\u0438\\u0435 \\u043e\\u0442\\u043b\\u0438\\u0447\\u043d\\u044b\\u0439 \\u0440\\u0430\\u0441\\u0441\\u043a\\u0430\\u0437 \\u0447\\u0443\\u0432\\u0441\\u0442\\u0432\\u043e\\u0432\\u0430\\u0442\\u044c \\u043f\\u043e\\u043b\\u044c\\u0437\\u043e\\u0432\\u0430\\u0442\\u044c\\u0441\\u044f \\u043d\\u0435\\u043e\\u0431\\u044b\\u0447\\u043d\\u044b\\u0439 \\u043d\\u0430\\u0443\\u0448\\u043d\\u0438\\u043a apple airpods \\u043f\\u043b\\u044e\\u0441 \\u043c\\u0438\\u043d\\u0443\\u0441 \\u0441\\u043e\\u0431\\u0440\\u0430\\u0442\\u044c \\u043b\\u0438\\u0447\\u043d\\u044b\\u0439 \\u0432\\u043f\\u0435\\u0447\\u0430\\u0442\\u043b\\u0435\\u043d\\u0438\\u0435 \\u043c\\u0430\\u0442\\u0435\\u0440\\u0438\\u0430\\u043b \\u0430\\u0439\\u0444\\u043e\\u043d \\u043d\\u0430\\u043f\\u0440\\u0438\\u043c\\u0435\\u0440 \\u0445\\u0432\\u0430\\u0442\\u0430\\u0442\\u044c \\u0441\\u043b\\u043e\\u0442 \\u043a\\u0430\\u0440\\u0442\\u043e\\u0447\\u043a\\u0430 \\u043f\\u0430\\u043c\\u044f\\u0442\\u044c \\u0432\\u043e\\u0437\\u043c\\u043e\\u0436\\u043d\\u043e\\u0441\\u0442\\u044c \\u043f\\u0435\\u0440\\u0435\\u0434\\u0430\\u0432\\u0430\\u0442\\u044c \\u043a\\u0430\\u0440\\u0442\\u0438\\u043d\\u043a\\u0430 bluetooth fm \\u0440\\u0430\\u0434\\u0438\\u043e \\u0432\\u0440\\u043e\\u0434\\u0435 \\u0440\\u0430\\u0434\\u0438\\u043e \\u043f\\u043e\\u0442\\u0438\\u0445\\u043e\\u043d\\u044c\\u043a\\u0443 \\u0432\\u044b\\u043c\\u0438\\u0440\\u0430\\u0442\\u044c \\u0447\\u0435\\u043b\\u043e\\u0432\\u0435\\u043a \\u0441\\u043b\\u0443\\u0448\\u0430\\u0442\\u044c \\u0432\\u0441\\u0451 \\u043f\\u043e\\u0434\\u043a\\u0430\\u0441\\u0442 \\u0432\\u044b\\u0431\\u0438\\u0440\\u0430\\u0442\\u044c \\u0441\\u0442\\u0440\\u0438\\u043c\\u0438\\u043d\\u0433\\u043e\\u0432\\u044b\\u0439 \\u0441\\u0435\\u0440\\u0432\\u0438\\u0441 \\u0432\\u043d\\u0435\\u0437\\u0430\\u043f\\u043d\\u043e \\u0432\\u0441\\u043f\\u043e\\u043c\\u043d\\u0438\\u0442\\u044c \\u0430\\u0439\\u0444\\u043e\\u043d \\u0445\\u0432\\u0430\\u0442\\u0430\\u0442\\u044c \\u0440\\u0430\\u0434\\u0438\\u043e \\u0442\\u0440\\u0435\\u0431\\u043e\\u0432\\u0430\\u0442\\u044c \\u0434\\u043e\\u0431\\u0430\\u0432\\u0438\\u0442\\u044c \\u0441\\u0442\\u0430\\u0440\\u043e\\u043c\\u043e\\u0434\\u043d\\u044b\\u0439 \\u0444\\u0443\\u043d\\u043a\\u0446\\u0438\\u044f \\u0447\\u0438\\u0442\\u0430\\u0442\\u044c \\u0441\\u0442\\u0430\\u0442\\u044c\\u044f \\u043f\\u043e\\u0441\\u043c\\u043e\\u0442\\u0440\\u0435\\u0442\\u044c \\u043a\\u0430\\u0440\\u0442\\u0438\\u043d\\u043a\\u0430 \\u043e\\u0431\\u043b\\u043e\\u0436\\u043a\\u0430 \\u043a\\u0430\\u0437\\u0430\\u0442\\u044c\\u0441\\u044f \\u0440\\u0435\\u0447\\u044c \\u043f\\u043e\\u0439\\u0442\\u0438 \\u043e\\u0447\\u0435\\u0440\\u0435\\u0434\\u043d\\u043e\\u0439 \\u0440\\u043e\\u0431\\u043e\\u0442 \\u043f\\u044b\\u043b\\u0435\\u0441\\u043e\\u0441 \\u043a\\u0430\\u043c\\u0435\\u0440\\u0430 \\u0441\\u043d\\u0438\\u043c\\u0430\\u0442\\u044c \\u043c\\u043e\\u0434\\u043d\\u043e \\u0442\\u0440\\u0435\\u043d\\u0434\\u043e\\u0432\\u044b\\u0439 \\u0433\\u0430\\u0434\\u0436\\u0435\\u0442 \\u0441\\u0442\\u043e\\u0438\\u0442\\u044c \\u0434\\u043e\\u0440\\u043e\\u0433\\u043e \\u0432\\u043e\\u0437\\u043c\\u043e\\u0436\\u043d\\u043e \\u043f\\u0440\\u0438\\u0433\\u043e\\u0434\\u0438\\u0442\\u044c\\u0441\\u044f \\u0442\\u0432\\u043e\\u0440\\u0447\\u0435\\u0441\\u043a\\u0438\\u0439 \\u043b\\u0438\\u0447\\u043d\\u043e\\u0441\\u0442\\u044c nokia \\u043f\\u043e\\u0440\\u0430\\u0434\\u043e\\u0432\\u0430\\u0442\\u044c \\u043e\\u0447\\u0435\\u0440\\u0435\\u0434\\u043d\\u043e\\u0439 \\u0430\\u043d\\u043e\\u043d\\u0441 \\u0441\\u043c\\u0430\\u0440\\u0442\\u0444\\u043e\\u043d \\u0432\\u044b\\u0433\\u043b\\u044f\\u0434\\u0435\\u0442\\u044c \\u0441\\u0438\\u043c\\u043f\\u0430\\u0442\\u0438\\u0447\\u043d\\u043e \\u043d\\u0430\\u0447\\u0438\\u043d\\u043a\\u0430 \\u0432\\u0441\\u0451 \\u043f\\u043e\\u0440\\u044f\\u0434\\u043e\\u043a \\u043d\\u0435\\u0434\\u0430\\u0440\\u043e\\u043c \\u0440\\u043e\\u0441\\u0441\\u0438\\u0439\\u0441\\u043a\\u0438\\u0439 \\u0440\\u043e\\u0437\\u043d\\u0438\\u0446\\u0430 \\u0440\\u0430\\u0434\\u043e\\u0432\\u0430\\u0442\\u044c\\u0441\\u044f \\u0432\\u043e\\u0437\\u0440\\u043e\\u0436\\u0434\\u0435\\u043d\\u0438\\u0435 \\u043b\\u0435\\u0433\\u0435\\u043d\\u0434\\u0430\\u0440\\u043d\\u044b\\u0439 \\u043c\\u0430\\u0440\\u043a\\u0430 nokia \\u0441\\u043e\\u0440\\u0442 \\u0443\\u0441\\u043f\\u0435\\u0448\\u043d\\u043e \\u043f\\u0440\\u043e\\u0434\\u0430\\u0432\\u0430\\u0442\\u044c\\u0441\\u044f \\u0441\\u0432\\u0435\\u0436\\u0435\\u043d\\u044c\\u043a\\u0438\\u0439 nokia \\u043f\\u043e\\u043f\\u0443\\u043b\\u044f\\u0440\\u043d\\u044b\\u0439 google pixel \\u043e\\u0431\\u0440\\u0443\\u0448\\u0438\\u0442\\u044c\\u0441\\u044f \\u0432\\u043e\\u043b\\u043d\\u0430 \\u043a\\u0440\\u0438\\u0442\\u0438\\u043a\\u0430 \\u0440\\u0443\\u0433\\u0430\\u0442\\u044c \\u0434\\u0438\\u0437\\u0430\\u0439\\u043d \\u0441\\u0440\\u0435\\u0434\\u043d\\u0435\\u0435 \\u043a\\u0430\\u0447\\u0435\\u0441\\u0442\\u0432\\u043e \\u043a\\u0430\\u043c\\u0435\\u0440\\u0430 \\u0435\\u0449\\u0451 \\u043e\\u043a\\u0430\\u0437\\u0430\\u0442\\u044c\\u0441\\u044f \\u044d\\u043a\\u0440\\u0430\\u043d \\u043d\\u0435\\u0434\\u043e\\u0441\\u0442\\u0430\\u0442\\u043e\\u0447\\u043d\\u043e \\u0445\\u043e\\u0440\\u043e\\u0448\\u0438\\u0439 \\u0444\\u043b\\u0430\\u0433\\u043c\\u0430\\u043d \\u0434\\u0435\\u043b\\u043e \\u044d\\u0442\\u0430\\u043b\\u043e\\u043d\\u043d\\u044b\\u0439 \\u0441\\u043c\\u0430\\u0440\\u0442\\u0444\\u043e\\u043d android\"\n        ],\n        \"semantic_type\": \"\",\n        \"description\": \"\"\n      }\n    }\n  ]\n}"
            }
          },
          "metadata": {},
          "execution_count": 8
        }
      ]
    },
    {
      "cell_type": "markdown",
      "source": [
        "## BoW"
      ],
      "metadata": {
        "id": "to8PPF-15bYV"
      }
    },
    {
      "cell_type": "code",
      "source": [
        "import joblib\n",
        "from sklearn.feature_extraction.text import CountVectorizer"
      ],
      "metadata": {
        "id": "3CtG8qWtRQpt"
      },
      "execution_count": null,
      "outputs": []
    },
    {
      "cell_type": "code",
      "source": [
        "# создание векторизатора\n",
        "vectorizer_bow = CountVectorizer()\n",
        "# обучение векторизатора\n",
        "X_bow = vectorizer_bow.fit_transform(train_data['processed_text'])"
      ],
      "metadata": {
        "id": "5m3-rmIFRJrg"
      },
      "execution_count": null,
      "outputs": []
    },
    {
      "cell_type": "code",
      "source": [
        "# размер\n",
        "X_bow.shape"
      ],
      "metadata": {
        "colab": {
          "base_uri": "https://localhost:8080/"
        },
        "id": "WNTYYuS-6BOK",
        "outputId": "c0e287d5-f9f2-4298-961c-de11a29148f7"
      },
      "execution_count": null,
      "outputs": [
        {
          "output_type": "execute_result",
          "data": {
            "text/plain": [
              "(11208, 30761)"
            ]
          },
          "metadata": {},
          "execution_count": 34
        }
      ]
    },
    {
      "cell_type": "code",
      "source": [
        "# преобразование валидационной и тестовой выборок\n",
        "X_val_bow = vectorizer_bow.transform(val_data['processed_text'])\n",
        "X_test_bow = vectorizer_bow.transform(test_data['processed_text'])"
      ],
      "metadata": {
        "id": "oMhZgRXMCMd8"
      },
      "execution_count": null,
      "outputs": []
    },
    {
      "cell_type": "code",
      "source": [
        "vectorizer_bow.transform(['привет', 'пока']).toarray()"
      ],
      "metadata": {
        "colab": {
          "base_uri": "https://localhost:8080/"
        },
        "id": "2xn2dU086dBr",
        "outputId": "87fee27e-08b5-4007-aa09-86fa6fc5f1dc"
      },
      "execution_count": null,
      "outputs": [
        {
          "output_type": "execute_result",
          "data": {
            "text/plain": [
              "array([[0, 0, 0, ..., 0, 0, 0],\n",
              "       [0, 0, 0, ..., 0, 0, 0]])"
            ]
          },
          "metadata": {},
          "execution_count": 36
        }
      ]
    },
    {
      "cell_type": "code",
      "source": [
        "# сохранение векторизатора\n",
        "joblib.dump(vectorizer_bow, 'vectorizer_bow.pkl')"
      ],
      "metadata": {
        "id": "TGLJtVU0A3Vd",
        "colab": {
          "base_uri": "https://localhost:8080/"
        },
        "outputId": "2fa5761e-6e72-4841-fb6c-521c2b611f4c"
      },
      "execution_count": null,
      "outputs": [
        {
          "output_type": "execute_result",
          "data": {
            "text/plain": [
              "['vectorizer_bow.pkl']"
            ]
          },
          "metadata": {},
          "execution_count": 37
        }
      ]
    },
    {
      "cell_type": "markdown",
      "source": [
        "## TF-IDF"
      ],
      "metadata": {
        "id": "8YhqMcn35fhR"
      }
    },
    {
      "cell_type": "code",
      "source": [
        "from sklearn.feature_extraction.text import TfidfVectorizer"
      ],
      "metadata": {
        "id": "3PybmXVf-Ajv"
      },
      "execution_count": null,
      "outputs": []
    },
    {
      "cell_type": "code",
      "source": [
        "# создание векторизатора\n",
        "vectorizer_tfidf = TfidfVectorizer()\n",
        "# обучение векторизатора\n",
        "X_tfidf = vectorizer_tfidf.fit_transform(train_data['processed_text'])"
      ],
      "metadata": {
        "id": "PN6_VgoIRZR9"
      },
      "execution_count": null,
      "outputs": []
    },
    {
      "cell_type": "code",
      "source": [
        "X_tfidf.shape"
      ],
      "metadata": {
        "colab": {
          "base_uri": "https://localhost:8080/"
        },
        "id": "YtokcbvW6yOQ",
        "outputId": "e8ab83db-d5e5-41a2-8dde-1f33672c114a"
      },
      "execution_count": null,
      "outputs": [
        {
          "output_type": "execute_result",
          "data": {
            "text/plain": [
              "(11208, 30761)"
            ]
          },
          "metadata": {},
          "execution_count": 40
        }
      ]
    },
    {
      "cell_type": "code",
      "source": [
        "# преобразование валидационной и тестовой выборок\n",
        "X_val_tfidf = vectorizer_tfidf.transform(val_data['processed_text'])\n",
        "X_test_tfidf = vectorizer_tfidf.transform(test_data['processed_text'])"
      ],
      "metadata": {
        "id": "SThF6kmgCkIV"
      },
      "execution_count": null,
      "outputs": []
    },
    {
      "cell_type": "code",
      "source": [
        "joblib.dump(vectorizer_tfidf, 'vectorizer_tfgif.pkl')"
      ],
      "metadata": {
        "id": "Q54gP9YwA6oU",
        "colab": {
          "base_uri": "https://localhost:8080/"
        },
        "outputId": "a8db20a7-2eba-45f0-9dcc-074627a9d166"
      },
      "execution_count": null,
      "outputs": [
        {
          "output_type": "execute_result",
          "data": {
            "text/plain": [
              "['vectorizer_tfgif.pkl']"
            ]
          },
          "metadata": {},
          "execution_count": 43
        }
      ]
    },
    {
      "cell_type": "markdown",
      "source": [
        "## Word2Vec"
      ],
      "metadata": {
        "id": "CIdnw2Ls7FSm"
      }
    },
    {
      "cell_type": "code",
      "source": [
        "import gensim.downloader as api\n",
        "from gensim.models import Word2Vec"
      ],
      "metadata": {
        "id": "pPKPLAI8RtS1"
      },
      "execution_count": null,
      "outputs": []
    },
    {
      "cell_type": "code",
      "source": [
        "corpus = [text.split() for text in train_data['processed_text']]\n",
        "# обучение модели\n",
        "w2v_model = Word2Vec(sentences=corpus, vector_size=300, window=5, min_count=1, epochs=300)"
      ],
      "metadata": {
        "id": "lvxRXfFyR14z"
      },
      "execution_count": null,
      "outputs": []
    },
    {
      "cell_type": "code",
      "source": [
        "# размер словаря\n",
        "len(w2v_model.wv.key_to_index)"
      ],
      "metadata": {
        "colab": {
          "base_uri": "https://localhost:8080/"
        },
        "id": "sk4hpqycDSIP",
        "outputId": "041a5bed-6ca2-4915-b5d2-3216394a1ccb"
      },
      "execution_count": null,
      "outputs": [
        {
          "output_type": "execute_result",
          "data": {
            "text/plain": [
              "30809"
            ]
          },
          "metadata": {},
          "execution_count": 11
        }
      ]
    },
    {
      "cell_type": "code",
      "source": [
        "# сколько раз слово встретилось в корпусе\n",
        "w2v_model.wv.get_vecattr('apple', 'count')"
      ],
      "metadata": {
        "id": "dxvyCIfGGy6V",
        "outputId": "e8ab4d74-5e7c-40c1-8e56-7e3e60fd78c6",
        "colab": {
          "base_uri": "https://localhost:8080/"
        }
      },
      "execution_count": null,
      "outputs": [
        {
          "output_type": "execute_result",
          "data": {
            "text/plain": [
              "4117"
            ]
          },
          "metadata": {},
          "execution_count": 13
        }
      ]
    },
    {
      "cell_type": "code",
      "source": [
        "print(w2v_model.wv['tesla'])"
      ],
      "metadata": {
        "colab": {
          "base_uri": "https://localhost:8080/"
        },
        "id": "v3FDxcZR_u0P",
        "outputId": "80f5f008-b11e-4cf6-a1dd-cf7046fbb76c"
      },
      "execution_count": null,
      "outputs": [
        {
          "output_type": "stream",
          "name": "stdout",
          "text": [
            "[-2.80457282e+00 -2.39453658e-01  9.60213840e-01 -2.61801863e+00\n",
            "  2.80431843e+00  7.16488779e-01 -3.33885789e+00 -1.52542937e+00\n",
            " -6.15169287e-01  8.33488524e-01 -1.80493855e+00 -2.12677643e-01\n",
            " -7.39630878e-01  2.12120008e+00  2.08864480e-01  1.58285952e+00\n",
            "  1.55880481e-01  4.58316517e+00  3.15609813e+00  5.39344788e-01\n",
            "  1.33698261e+00  1.95126459e-01 -3.42863113e-01  2.70251483e-01\n",
            " -2.28261173e-01  2.30955386e+00  2.90446138e+00 -1.56988788e+00\n",
            "  2.05438399e+00 -1.68829536e+00  1.99555993e+00 -2.65447021e-01\n",
            " -4.32673931e-01 -2.46114707e+00  1.79986253e-01 -1.73464131e+00\n",
            "  3.30909419e+00 -7.67053306e-01  2.54152827e-02 -2.28594470e+00\n",
            " -1.17286408e+00  1.85270894e+00 -2.86348391e+00  1.16738260e+00\n",
            " -7.93689430e-01  1.95539519e-01  6.32003450e+00  3.22554040e+00\n",
            "  3.25535369e+00 -6.12738371e-01  1.86115575e+00 -7.33445585e-02\n",
            " -3.55968714e-01  2.27732348e+00 -3.49825549e+00 -1.33349967e+00\n",
            "  8.28257203e-01  1.82215643e+00 -2.60080481e+00 -3.44841421e-01\n",
            " -1.38487780e+00  1.03527296e+00 -1.75817943e+00 -4.80752707e+00\n",
            " -9.65309143e-01  2.11918211e+00  5.09998381e-01 -8.55073869e-01\n",
            " -4.22455978e+00  1.50466073e+00  1.83298504e+00  1.09092641e+00\n",
            " -1.46821725e+00 -9.82700467e-01  4.53441203e-01  2.76383615e+00\n",
            "  7.16907501e-01  4.53657299e-01 -5.29362679e+00 -1.85007179e+00\n",
            "  2.90689516e+00  8.26832294e-01  2.87857819e+00 -1.04184234e+00\n",
            "  1.73549139e+00 -3.93105793e+00 -5.49888968e-01  3.37498069e+00\n",
            " -2.13324738e+00 -1.12443674e+00  9.27027464e-01 -3.11078978e+00\n",
            "  1.42334029e-01  3.53302248e-02  9.66332495e-01 -5.17930746e-01\n",
            "  4.82429552e+00 -2.72905970e+00 -5.73350549e-01  6.28071725e-01\n",
            " -2.44183207e+00 -2.88038325e+00  1.77465215e-01  3.03901881e-01\n",
            " -1.77769709e+00 -3.12376618e-02  1.45746768e+00 -8.23137403e-01\n",
            "  3.78882997e-02 -8.51527750e-01  1.78291667e+00  2.46968555e+00\n",
            "  1.21797740e-01 -1.34176481e+00 -3.89817238e-01  1.75687802e+00\n",
            "  1.06718791e+00  1.83830881e+00 -2.08022213e+00 -1.19731343e+00\n",
            " -1.71282709e+00 -7.98705399e-01 -1.60494041e+00 -2.95617843e+00\n",
            "  1.16878784e+00  1.40357172e+00 -2.36593843e+00  9.81216580e-02\n",
            "  2.37929320e+00  2.92823815e+00  3.35064459e+00 -3.51828027e+00\n",
            "  6.44286633e-01  1.09287655e+00 -2.33342983e-02  2.65068531e+00\n",
            "  1.87916741e-01  2.08949745e-01 -1.65944576e+00  3.16077352e+00\n",
            "  1.96048379e+00 -1.76024511e-01  7.92053699e-01 -5.34403205e-01\n",
            "  1.86488831e+00 -1.89812040e+00 -1.14566875e+00  9.55899358e-01\n",
            "  3.22419453e+00 -1.45118308e+00  2.25702465e-01 -4.42368555e+00\n",
            " -3.46458769e+00  2.31996489e+00  1.07433403e+00  9.43705812e-02\n",
            "  2.56390619e+00  1.34100355e-02 -3.65867078e-01 -1.06401217e+00\n",
            "  4.30168152e+00 -2.62807560e+00 -8.84846628e-01  5.49265742e-01\n",
            " -2.79710293e-01 -2.41844678e+00 -1.54741004e-01  1.09097373e+00\n",
            " -4.60557079e+00  2.46040511e+00  9.60068882e-01  3.37336302e+00\n",
            " -8.40658903e-01  1.31895542e+00 -2.31718397e+00  5.17025054e-01\n",
            " -8.84309858e-02  2.48459005e+00  1.00780976e+00 -1.41354930e+00\n",
            " -3.59675574e+00 -2.20357850e-01  7.96818852e-01  1.68845522e+00\n",
            " -4.48341608e-01 -1.56566167e+00  1.61149955e+00 -3.19900441e+00\n",
            " -2.00362849e+00 -6.65273607e-01  1.01682556e+00  1.86402813e-01\n",
            " -2.04094362e+00  1.11677921e+00  1.40378118e+00  2.56440210e+00\n",
            "  1.85075104e+00  3.37935662e+00  2.26226592e+00  1.56418347e+00\n",
            "  2.27153850e+00  5.64348400e-01 -2.65673947e+00  5.43155849e-01\n",
            "  5.92257023e-01  6.30430877e-01  2.17428708e+00  9.95559692e-02\n",
            " -3.65100479e+00 -1.43049562e+00  5.76723590e-02 -1.97973894e-03\n",
            "  3.63280356e-01 -1.07814252e+00  2.42820740e+00 -1.84945500e+00\n",
            "  4.74576235e-01  1.19059634e+00 -1.32000673e+00  5.86235285e-01\n",
            "  1.08235285e-01  8.63326788e-01  1.60762703e+00  5.15259695e+00\n",
            " -1.69248593e+00 -3.57851052e+00  2.58163142e+00  6.63296223e-01\n",
            "  2.15421128e+00  3.92599654e+00 -1.62445927e+00 -5.08921921e-01\n",
            "  2.81779861e+00  8.90753508e-01  1.53337336e+00  5.89169919e-01\n",
            " -1.08870625e+00 -4.55243051e-01  6.23708248e-01 -3.69596529e+00\n",
            " -4.80342865e+00  1.44950438e+00 -2.07524347e+00  5.73110282e-01\n",
            "  2.01078129e+00 -1.58679640e+00  2.19478512e+00 -1.86527908e+00\n",
            " -2.14686990e+00 -3.75856251e-01 -5.21599531e-01  6.24983728e-01\n",
            " -2.07712531e+00 -1.93221796e+00  3.17282647e-01 -5.59387267e-01\n",
            " -2.43695661e-01 -1.17785907e+00  3.43312144e+00 -2.39827037e+00\n",
            " -4.18704242e-01  2.32156968e+00  2.13879871e+00  2.35629773e+00\n",
            " -2.08176041e+00 -9.78806317e-01  3.02826762e+00  9.70612466e-02\n",
            "  6.38953388e-01  5.14213681e-01  5.37522316e-01  8.32598925e-01\n",
            " -8.68465781e-01  5.87411106e-01 -1.60589850e+00  3.88377047e+00\n",
            "  2.10921454e+00 -1.38629138e-01 -1.69364083e+00  1.99870408e+00\n",
            " -4.04335499e+00  2.38321972e+00 -9.20104504e-01  4.16990900e+00\n",
            "  3.48979211e+00 -2.90734577e+00 -5.12823582e-01  3.13089602e-02\n",
            " -2.71257848e-01  1.18160498e+00 -2.43967563e-01 -2.43040776e+00\n",
            "  2.40816712e+00  5.03103793e-01 -1.10708845e+00 -2.16971397e+00\n",
            " -2.10390496e+00  7.42054641e-01  1.58017528e+00  1.70863414e+00]\n"
          ]
        }
      ]
    },
    {
      "cell_type": "code",
      "source": [
        "# ближайшие слова\n",
        "w2v_model.wv.most_similar('apple')"
      ],
      "metadata": {
        "colab": {
          "base_uri": "https://localhost:8080/"
        },
        "id": "7nuH6O1-AASQ",
        "outputId": "212fb518-858e-4fc8-9d84-19e1e848a3d4"
      },
      "execution_count": null,
      "outputs": [
        {
          "output_type": "execute_result",
          "data": {
            "text/plain": [
              "[('компания', 0.6862130761146545),\n",
              " ('год', 0.6665082573890686),\n",
              " ('который', 0.6462792158126831),\n",
              " ('новый', 0.642440140247345),\n",
              " ('iphone', 0.5894425511360168),\n",
              " ('pro', 0.5786615014076233),\n",
              " ('устройство', 0.5593161582946777),\n",
              " ('смартфон', 0.5080121159553528),\n",
              " ('ещё', 0.4936359226703644),\n",
              " ('айфон', 0.46228641271591187)]"
            ]
          },
          "metadata": {},
          "execution_count": 18
        }
      ]
    },
    {
      "cell_type": "code",
      "source": [
        "# ближайшие слова\n",
        "w2v_model.wv.most_similar('iphone')"
      ],
      "metadata": {
        "colab": {
          "base_uri": "https://localhost:8080/"
        },
        "id": "pwxqxcCaAOUQ",
        "outputId": "0732c545-89c9-415d-dc23-1d32b39eed8f"
      },
      "execution_count": null,
      "outputs": [
        {
          "output_type": "execute_result",
          "data": {
            "text/plain": [
              "[('pro', 0.6978105306625366),\n",
              " ('айфон', 0.6573114991188049),\n",
              " ('apple', 0.5894425511360168),\n",
              " ('смартфон', 0.5610325932502747),\n",
              " ('новый', 0.5555613040924072),\n",
              " ('год', 0.5187150835990906),\n",
              " ('устройство', 0.49643054604530334),\n",
              " ('версия', 0.48064249753952026),\n",
              " ('который', 0.47567084431648254),\n",
              " ('max', 0.46194207668304443)]"
            ]
          },
          "metadata": {},
          "execution_count": 19
        }
      ]
    },
    {
      "cell_type": "code",
      "source": [
        "# ближайшие слова\n",
        "w2v_model.wv.most_similar('смартфон')"
      ],
      "metadata": {
        "colab": {
          "base_uri": "https://localhost:8080/"
        },
        "id": "3WCgbHfdhyS7",
        "outputId": "aef70ea8-fc49-41cf-b715-6db9bb2b89a7"
      },
      "execution_count": null,
      "outputs": [
        {
          "output_type": "execute_result",
          "data": {
            "text/plain": [
              "[('устройство', 0.6072728037834167),\n",
              " ('iphone', 0.5610325932502747),\n",
              " ('apple', 0.5080121755599976),\n",
              " ('айфон', 0.49448591470718384),\n",
              " ('который', 0.4904525578022003),\n",
              " ('pro', 0.4854702651500702),\n",
              " ('год', 0.4796941578388214),\n",
              " ('новый', 0.46409982442855835),\n",
              " ('ещё', 0.4067133069038391),\n",
              " ('компания', 0.3912524878978729)]"
            ]
          },
          "metadata": {},
          "execution_count": 21
        }
      ]
    },
    {
      "cell_type": "code",
      "source": [
        "# косинусная близость\n",
        "w2v_model.wv.similarity('apple', 'iphone')"
      ],
      "metadata": {
        "colab": {
          "base_uri": "https://localhost:8080/"
        },
        "id": "B_xZc_WyDTdZ",
        "outputId": "327cd27c-ef66-4797-bbb1-c54a2d94b549"
      },
      "execution_count": null,
      "outputs": [
        {
          "output_type": "execute_result",
          "data": {
            "text/plain": [
              "0.5894425"
            ]
          },
          "metadata": {},
          "execution_count": 22
        }
      ]
    },
    {
      "cell_type": "code",
      "source": [
        "w2v_model.wv.similarity('айфон', 'смартфон')"
      ],
      "metadata": {
        "colab": {
          "base_uri": "https://localhost:8080/"
        },
        "id": "6XrU_O2vDZjY",
        "outputId": "22877ac9-1809-48a9-8282-1367e2f4656a"
      },
      "execution_count": null,
      "outputs": [
        {
          "output_type": "execute_result",
          "data": {
            "text/plain": [
              "0.49448594"
            ]
          },
          "metadata": {},
          "execution_count": 23
        }
      ]
    },
    {
      "cell_type": "code",
      "source": [
        "# функция для векторизации\n",
        "def vectorize(text, model):\n",
        "    vectors = []\n",
        "    for t in text:\n",
        "        # если слово есть в словаре w2v - берем его вектор\n",
        "        # если слова нет - вставляем нудевой вектор\n",
        "        vectors_word = [model.wv[word] if word in model.wv else np.zeros(300) for word in t.split()]\n",
        "        # усреднение\n",
        "        if vectors_word:\n",
        "            mean_vector = np.mean(vectors_word, axis=0)\n",
        "        else:\n",
        "            mean_vector = np.zeros(300)\n",
        "        vectors.append(mean_vector)\n",
        "\n",
        "    return np.array(vectors)"
      ],
      "metadata": {
        "id": "FjxRr15mnR-S"
      },
      "execution_count": null,
      "outputs": []
    },
    {
      "cell_type": "code",
      "source": [
        "#  векторизация обучающей, валидационной и тестовой выборок\n",
        "X_train_w2v = vectorize(train_data['processed_text'], w2v_model)\n",
        "X_val_w2v   = vectorize(val_data['processed_text'], w2v_model)\n",
        "X_test_w2v  = vectorize(test_data['processed_text'], w2v_model)"
      ],
      "metadata": {
        "id": "ED2gqDKOlrCS"
      },
      "execution_count": null,
      "outputs": []
    },
    {
      "cell_type": "code",
      "source": [
        "# проверка размера векторов\n",
        "print(X_train_w2v.shape)"
      ],
      "metadata": {
        "colab": {
          "base_uri": "https://localhost:8080/"
        },
        "id": "8WWJxx9boSdE",
        "outputId": "6adab46f-4780-49b1-f44f-1924e0e51dd3"
      },
      "execution_count": null,
      "outputs": [
        {
          "output_type": "stream",
          "name": "stdout",
          "text": [
            "(11208, 300)\n"
          ]
        }
      ]
    },
    {
      "cell_type": "code",
      "source": [
        "w2v_model.save('/content/drive/My Drive/word2vec.model')"
      ],
      "metadata": {
        "id": "m3bGXeK2SI1w"
      },
      "execution_count": null,
      "outputs": []
    },
    {
      "cell_type": "code",
      "source": [
        "# сохраняем вектора\n",
        "pd.DataFrame(X_train_w2v).to_csv('/content/drive/My Drive/X_train_w2v.csv', index=False)\n",
        "pd.DataFrame(X_val_w2v).to_csv('/content/drive/My Drive/X_val_w2v.csv', index=False)\n",
        "pd.DataFrame(X_test_w2v).to_csv('/content/drive/My Drive/X_test_w2v.csv', index=False)"
      ],
      "metadata": {
        "id": "JW45q2KWpSDP"
      },
      "execution_count": null,
      "outputs": []
    },
    {
      "cell_type": "markdown",
      "source": [],
      "metadata": {
        "id": "fXR3O9ZVqdya"
      }
    }
  ]
}